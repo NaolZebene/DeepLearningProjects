{
 "cells": [
  {
   "cell_type": "code",
   "execution_count": 21,
   "id": "f4c6a936-03b6-48af-9d19-1b7d791afee6",
   "metadata": {},
   "outputs": [],
   "source": [
    "import numpy as np\n",
    "import pandas as pd"
   ]
  },
  {
   "cell_type": "code",
   "execution_count": 2,
   "id": "1a1fa74f-307a-4afe-aa5b-ca4d385dcce2",
   "metadata": {},
   "outputs": [],
   "source": [
    "X_data = np.array([160, 171, 182, 180, 154], ndmin=2)\n",
    "x_data = X_data.reshape((5, 1))\n",
    "y_data = np.array([72, 76, 77, 83, 76])"
   ]
  },
  {
   "cell_type": "code",
   "execution_count": 7,
   "id": "a210b3bc-3a3a-434b-83db-a122d2d1ed6a",
   "metadata": {},
   "outputs": [
    {
     "data": {
      "text/plain": [
       "array([78.17022697])"
      ]
     },
     "execution_count": 7,
     "metadata": {},
     "output_type": "execute_result"
    }
   ],
   "source": [
    "from sklearn.linear_model import LinearRegression\n",
    "model = LinearRegression()\n",
    "model.fit(x_data, y_data)\n",
    "model.predict([[176]])"
   ]
  },
  {
   "cell_type": "code",
   "execution_count": 9,
   "id": "259ce0cf-7c32-4a0c-af73-2ce6a51a86de",
   "metadata": {},
   "outputs": [
    {
     "data": {
      "text/plain": [
       "array([74.84846462, 77.13217623, 79.41588785, 79.00066756, 73.60280374])"
      ]
     },
     "execution_count": 9,
     "metadata": {},
     "output_type": "execute_result"
    }
   ],
   "source": [
    "y_pred = model.predict(x_data)\n",
    "y_pred"
   ]
  },
  {
   "cell_type": "code",
   "execution_count": 13,
   "id": "013acfd5-7609-4806-861e-b58898b365de",
   "metadata": {},
   "outputs": [
    {
     "data": {
      "text/plain": [
       "array([ 8.11375069,  1.28182303,  5.83651411, 15.99465999,  5.74654992])"
      ]
     },
     "execution_count": 13,
     "metadata": {},
     "output_type": "execute_result"
    }
   ],
   "source": [
    "sse = (y_data - y_pred) ** 2\n",
    "sse"
   ]
  },
  {
   "cell_type": "code",
   "execution_count": 15,
   "id": "fe1a60b5-b859-4d27-a629-769cd4a2d831",
   "metadata": {},
   "outputs": [],
   "source": [
    "mse = np.mean(sse)"
   ]
  },
  {
   "cell_type": "code",
   "execution_count": 17,
   "id": "1eba6828-db60-47f7-965f-0bc794b28c05",
   "metadata": {},
   "outputs": [
    {
     "data": {
      "text/plain": [
       "7.394659546061422"
      ]
     },
     "execution_count": 17,
     "metadata": {},
     "output_type": "execute_result"
    }
   ],
   "source": [
    "mse"
   ]
  },
  {
   "cell_type": "code",
   "execution_count": 19,
   "id": "499d04ba-d254-44ea-9539-c7aed85f50a1",
   "metadata": {},
   "outputs": [
    {
     "data": {
      "text/plain": [
       "7.394659546061422"
      ]
     },
     "execution_count": 19,
     "metadata": {},
     "output_type": "execute_result"
    }
   ],
   "source": [
    "from sklearn.metrics import mean_squared_error\n",
    "mean_squared_error(y_data, y_pred)"
   ]
  },
  {
   "cell_type": "code",
   "execution_count": 33,
   "id": "01d17c7a-b63c-4bfb-8113-74a88f7226f9",
   "metadata": {},
   "outputs": [
    {
     "name": "stdout",
     "output_type": "stream",
     "text": [
      "y pred is [0.9 0.2 0.7 0.4]\n",
      "Binary Cross-Entropy Loss: 0.2990011586691898\n"
     ]
    }
   ],
   "source": []
  },
  {
   "cell_type": "code",
   "execution_count": 65,
   "id": "fff621f5-d793-427f-a677-30ee177c6b4d",
   "metadata": {},
   "outputs": [
    {
     "data": {
      "image/png": "[encoded data removed]",
      "text/plain": [
       "<Figure size 640x480 with 1 Axes>"
      ]
     },
     "metadata": {},
     "output_type": "display_data"
    }
   ],
   "source": [
    "import numpy as np\n",
    "import matplotlib.pyplot as plt\n",
    "\n",
    "\n",
    "def mish(x):\n",
    "    return x * ( 1/ (1 + np.exp(-1 * x)))\n",
    "\n",
    "\n",
    "x = np.linspace(-5, 5, 100)\n",
    "y = mish(x)\n",
    "\n",
    "\n",
    "plt.plot(x, y, label=\"Mish Activation\")\n",
    "plt.title(\"Mish Activation Function\")\n",
    "plt.xlabel(\"Input (x)\")\n",
    "plt.ylabel(\"Output (Mish(x))\")\n",
    "plt.legend()\n",
    "plt.grid(True)\n",
    "plt.show()\n"
   ]
  },
  {
   "cell_type": "code",
   "execution_count": 53,
   "id": "b98233e7-64fa-4978-94a7-fa0d764b1b80",
   "metadata": {},
   "outputs": [
    {
     "name": "stdout",
     "output_type": "stream",
     "text": [
      "1\n"
     ]
    }
   ],
   "source": [
    "print(x.ndim)"
   ]
  },
  {
   "cell_type": "code",
   "execution_count": 1,
   "id": "74b1b988-1f7f-455d-8bd0-7884aa0ba3cd",
   "metadata": {},
   "outputs": [],
   "source": [
    "import torch "
   ]
  },
  {
   "cell_type": "code",
   "execution_count": 3,
   "id": "2f6da1c6-e4d8-44bf-b664-42e9441b2fdd",
   "metadata": {},
   "outputs": [],
   "source": [
    "a = torch.tensor([2, 2, 1])"
   ]
  },
  {
   "cell_type": "code",
   "execution_count": 5,
   "id": "9a00334f-61b8-4519-99a6-aa50bfde8957",
   "metadata": {},
   "outputs": [
    {
     "name": "stdout",
     "output_type": "stream",
     "text": [
      "tensor([2, 2, 1])\n"
     ]
    }
   ],
   "source": [
    "print(a)"
   ]
  },
  {
   "cell_type": "code",
   "execution_count": 7,
   "id": "82c23d94-6fa5-439a-b87b-24337039584e",
   "metadata": {},
   "outputs": [],
   "source": [
    "b = torch.tensor([[2, 1, 4], [3, 5, 4], [1, 2, 0], [4, 3, 2]])"
   ]
  },
  {
   "cell_type": "code",
   "execution_count": 9,
   "id": "16a1de01-10f5-46f9-998d-e346364b2c0f",
   "metadata": {},
   "outputs": [
    {
     "name": "stdout",
     "output_type": "stream",
     "text": [
      "torch.Size([3])\n",
      "torch.Size([4, 3])\n",
      "torch.Size([3])\n",
      "torch.Size([4, 3])\n"
     ]
    }
   ],
   "source": [
    "print(a.shape)\n",
    "print(b.shape)\n",
    "print(a.size())\n",
    "print(b.size())"
   ]
  },
  {
   "cell_type": "code",
   "execution_count": 11,
   "id": "4fc1c042-7a82-4980-854e-c7fba946ae24",
   "metadata": {},
   "outputs": [
    {
     "data": {
      "text/plain": [
       "tensor([[0.0535, 0.2986, 0.5556, 0.8668],\n",
       "        [0.6341, 0.8779, 0.9970, 0.4335],\n",
       "        [0.4639, 0.2183, 0.9793, 0.3252],\n",
       "        [0.1729, 0.7967, 0.4952, 0.2458]])"
      ]
     },
     "execution_count": 11,
     "metadata": {},
     "output_type": "execute_result"
    }
   ],
   "source": [
    "torch.rand(4, 4)"
   ]
  },
  {
   "cell_type": "code",
   "execution_count": 13,
   "id": "d52d526d-939f-4d58-b417-b7bb7006dc96",
   "metadata": {},
   "outputs": [],
   "source": [
    "r2 = torch.randn(4, 4)"
   ]
  },
  {
   "cell_type": "code",
   "execution_count": 15,
   "id": "4a577c7d-c86e-4d2f-afc3-40e0c6adea26",
   "metadata": {},
   "outputs": [
    {
     "data": {
      "text/plain": [
       "tensor([[-1.5140,  0.2253,  0.8593,  0.9184],\n",
       "        [ 0.6517,  1.9124, -0.3314,  0.1670],\n",
       "        [-0.1464, -0.8626, -0.1122,  0.2152],\n",
       "        [ 0.7899,  1.0440,  0.0969,  1.4993]])"
      ]
     },
     "execution_count": 15,
     "metadata": {},
     "output_type": "execute_result"
    }
   ],
   "source": [
    "r2"
   ]
  },
  {
   "cell_type": "code",
   "execution_count": 17,
   "id": "0bca3735-209c-4aa4-ab78-a269252f4585",
   "metadata": {},
   "outputs": [
    {
     "data": {
      "text/plain": [
       "tensor([[7, 7, 9],\n",
       "        [7, 6, 7],\n",
       "        [8, 8, 9]])"
      ]
     },
     "execution_count": 17,
     "metadata": {},
     "output_type": "execute_result"
    }
   ],
   "source": [
    "in_array = torch.randint(6, 10, (3,3))\n",
    "in_array"
   ]
  },
  {
   "cell_type": "code",
   "execution_count": 23,
   "id": "879c90d4-b951-41b5-94f5-6243fecee377",
   "metadata": {},
   "outputs": [
    {
     "name": "stdout",
     "output_type": "stream",
     "text": [
      "tensor([1., 1., 1., 1., 1.])\n"
     ]
    }
   ],
   "source": [
    " a = torch.ones(5)\n",
    "print(a)"
   ]
  },
  {
   "cell_type": "code",
   "execution_count": 25,
   "id": "e0eeca2a-797b-4c01-bec5-ee76f910511c",
   "metadata": {},
   "outputs": [],
   "source": [
    "b = a.numpy()"
   ]
  },
  {
   "cell_type": "code",
   "execution_count": 27,
   "id": "833dc50a-6541-48de-960c-14fabb219fa3",
   "metadata": {},
   "outputs": [
    {
     "name": "stdout",
     "output_type": "stream",
     "text": [
      "[1. 1. 1. 1. 1.]\n"
     ]
    }
   ],
   "source": [
    "print(b)"
   ]
  },
  {
   "cell_type": "code",
   "execution_count": 29,
   "id": "d5368110-51d0-4552-ac17-cfcbdc82da43",
   "metadata": {},
   "outputs": [
    {
     "data": {
      "text/plain": [
       "tensor([[-1.5140,  0.2253,  0.8593,  0.9184],\n",
       "        [ 0.6517,  1.9124, -0.3314,  0.1670],\n",
       "        [-0.1464, -0.8626, -0.1122,  0.2152],\n",
       "        [ 0.7899,  1.0440,  0.0969,  1.4993]], device='cuda:0')"
      ]
     },
     "execution_count": 29,
     "metadata": {},
     "output_type": "execute_result"
    }
   ],
   "source": [
    "r2 = r2.cuda()\n",
    "r2"
   ]
  },
  {
   "cell_type": "code",
   "execution_count": 31,
   "id": "23dfd6d7-0922-49c7-84a6-8512c11e7aca",
   "metadata": {},
   "outputs": [
    {
     "data": {
      "text/plain": [
       "True"
      ]
     },
     "execution_count": 31,
     "metadata": {},
     "output_type": "execute_result"
    }
   ],
   "source": [
    "CUDA = torch.cuda.is_available()\n",
    "\n",
    "CUDA"
   ]
  },
  {
   "cell_type": "code",
   "execution_count": 37,
   "id": "3747c1e6-b7f2-4004-bf87-1c5c4875d31b",
   "metadata": {},
   "outputs": [
    {
     "name": "stdout",
     "output_type": "stream",
     "text": [
      "tensor([5., 7., 9.], grad_fn=<AddBackward0>)\n",
      "<AddBackward0 object at 0x00000245CC8DBB80>\n",
      "tensor(21., grad_fn=<SumBackward0>)\n",
      "<SumBackward0 object at 0x00000245BE87A9B0>\n",
      "None\n"
     ]
    }
   ],
   "source": [
    "x = torch.tensor([1., 2., 3.], requires_grad=True)\n",
    "y = torch.tensor([4., 5., 6.], requires_grad=True)\n",
    "\n",
    "z = x + y\n",
    "\n",
    "print(z)\n",
    "\n",
    "print(z.grad_fn)\n",
    "\n",
    "s = z.sum()\n",
    "\n",
    "print(s)\n",
    "\n",
    "print(s.grad_fn)\n",
    "\n",
    "print(x.grad)\n"
   ]
  },
  {
   "cell_type": "code",
   "execution_count": 39,
   "id": "84b140ea-4857-4c68-abf8-5116a4c71480",
   "metadata": {},
   "outputs": [],
   "source": [
    "s.backward()"
   ]
  },
  {
   "cell_type": "code",
   "execution_count": 41,
   "id": "44947740-c5ba-495c-9077-bc1309acd405",
   "metadata": {},
   "outputs": [
    {
     "name": "stdout",
     "output_type": "stream",
     "text": [
      "tensor([1., 1., 1.])\n"
     ]
    }
   ],
   "source": [
    "print(x.grad)"
   ]
  },
  {
   "cell_type": "code",
   "execution_count": 43,
   "id": "d9aa738c-008b-4d19-86c2-6b051f67111b",
   "metadata": {},
   "outputs": [],
   "source": [
    "import torch.nn as nn"
   ]
  },
  {
   "cell_type": "code",
   "execution_count": 45,
   "id": "805f95a1-e60a-4eb6-b54d-6a6f701899dd",
   "metadata": {},
   "outputs": [],
   "source": [
    "prediction = torch.randn(4, 5)"
   ]
  },
  {
   "cell_type": "code",
   "execution_count": 47,
   "id": "23c5b583-deeb-4456-8326-eb214c6cd4a3",
   "metadata": {
    "scrolled": true
   },
   "outputs": [
    {
     "data": {
      "text/plain": [
       "tensor([[-0.0282, -0.8120, -0.9717, -0.8929,  0.0998],\n",
       "        [-0.7293, -0.5758, -1.1090,  0.0197,  0.9479],\n",
       "        [ 0.4605, -0.4265, -1.2908, -0.6115, -0.2224],\n",
       "        [-0.6698,  0.2628, -1.7485, -1.1033, -0.6683]])"
      ]
     },
     "execution_count": 47,
     "metadata": {},
     "output_type": "execute_result"
    }
   ],
   "source": [
    "prediction"
   ]
  },
  {
   "cell_type": "code",
   "execution_count": 51,
   "id": "8b0bea4f-c87b-4a09-a7e5-09a28074c30a",
   "metadata": {},
   "outputs": [
    {
     "data": {
      "text/plain": [
       "tensor([[ 0.9246,  0.2153,  1.7790, -1.0596,  0.9721],\n",
       "        [ 0.4188, -0.3489,  0.0408, -1.1881,  1.6911],\n",
       "        [ 0.4127, -1.3097, -1.2713, -0.8051,  2.5923],\n",
       "        [-0.4806, -0.1519,  1.0188, -1.6412, -0.9569]])"
      ]
     },
     "execution_count": 51,
     "metadata": {},
     "output_type": "execute_result"
    }
   ],
   "source": [
    "label = torch.randn(4,5)\n",
    "label"
   ]
  },
  {
   "cell_type": "code",
   "execution_count": 75,
   "id": "9e918aaa-65fc-48c7-a235-3d7c0a94d7b3",
   "metadata": {},
   "outputs": [],
   "source": [
    "mse = nn.MSELoss(reduction='mean')"
   ]
  },
  {
   "cell_type": "code",
   "execution_count": 76,
   "id": "66f76984-c104-4e56-902c-254a2bf431e0",
   "metadata": {},
   "outputs": [],
   "source": [
    "loss = mse(prediction, label)"
   ]
  },
  {
   "cell_type": "code",
   "execution_count": 79,
   "id": "c78bb82b-e321-470a-a18b-31606f6e0dc7",
   "metadata": {},
   "outputs": [
    {
     "data": {
      "text/plain": [
       "tensor(1.6001)"
      ]
     },
     "execution_count": 79,
     "metadata": {},
     "output_type": "execute_result"
    }
   ],
   "source": [
    "loss"
   ]
  },
  {
   "cell_type": "code",
   "execution_count": 83,
   "id": "930ec81c-d3fe-467a-bbab-4f8bca3d3634",
   "metadata": {},
   "outputs": [
    {
     "data": {
      "text/plain": [
       "tensor(1.6001)"
      ]
     },
     "execution_count": 83,
     "metadata": {},
     "output_type": "execute_result"
    }
   ],
   "source": [
    "((prediction - label) ** 2).mean()"
   ]
  },
  {
   "cell_type": "code",
   "execution_count": null,
   "id": "0af20da5-3c2b-4c90-8127-a4324b99984a",
   "metadata": {},
   "outputs": [],
   "source": [
    " "
   ]
  }
 ],
 "metadata": {
  "kernelspec": {
   "display_name": "Python [conda env:base] *",
   "language": "python",
   "name": "conda-base-py"
  },
  "language_info": {
   "codemirror_mode": {
    "name": "ipython",
    "version": 3
   },
   "file_extension": ".py",
   "mimetype": "text/x-python",
   "name": "python",
   "nbconvert_exporter": "python",
   "pygments_lexer": "ipython3",
   "version": "3.12.7"
  }
 },
 "nbformat": 4,
 "nbformat_minor": 5
}
